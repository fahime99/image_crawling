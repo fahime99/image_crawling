{
  "cells": [
    {
      "cell_type": "markdown",
      "metadata": {
        "id": "view-in-github",
        "colab_type": "text"
      },
      "source": [
        "<a href=\"https://colab.research.google.com/github/fahime99/image_crawling/blob/main/Welcome_To_Colaboratory.ipynb\" target=\"_parent\"><img src=\"https://colab.research.google.com/assets/colab-badge.svg\" alt=\"Open In Colab\"/></a>"
      ]
    },
    {
      "cell_type": "code",
      "source": [
        "#These codes install the required packages\n",
        "!pip install icrawler\n",
        "!pip install easyocr\n",
        "!pip install pyspellchecker\n",
        "!pip install fuzzywuzzy\n",
        "!pip install python-Levenshtein\n",
        "!pip install deep-translator"
      ],
      "metadata": {
        "colab": {
          "base_uri": "https://localhost:8080/"
        },
        "id": "8X-aixGPggwq",
        "outputId": "d94842c1-6ada-4115-ab2a-af1a2928a1f1"
      },
      "execution_count": 1,
      "outputs": [
        {
          "output_type": "stream",
          "name": "stdout",
          "text": [
            "Looking in indexes: https://pypi.org/simple, https://us-python.pkg.dev/colab-wheels/public/simple/\n",
            "Collecting icrawler\n",
            "  Downloading icrawler-0.6.6-py2.py3-none-any.whl (35 kB)\n",
            "Requirement already satisfied: requests>=2.9.1 in /usr/local/lib/python3.9/dist-packages (from icrawler) (2.27.1)\n",
            "Requirement already satisfied: lxml in /usr/local/lib/python3.9/dist-packages (from icrawler) (4.9.2)\n",
            "Requirement already satisfied: beautifulsoup4>=4.4.1 in /usr/local/lib/python3.9/dist-packages (from icrawler) (4.11.2)\n",
            "Requirement already satisfied: Pillow in /usr/local/lib/python3.9/dist-packages (from icrawler) (8.4.0)\n",
            "Requirement already satisfied: six>=1.10.0 in /usr/local/lib/python3.9/dist-packages (from icrawler) (1.16.0)\n",
            "Requirement already satisfied: soupsieve>1.2 in /usr/local/lib/python3.9/dist-packages (from beautifulsoup4>=4.4.1->icrawler) (2.4)\n",
            "Requirement already satisfied: urllib3<1.27,>=1.21.1 in /usr/local/lib/python3.9/dist-packages (from requests>=2.9.1->icrawler) (1.26.15)\n",
            "Requirement already satisfied: certifi>=2017.4.17 in /usr/local/lib/python3.9/dist-packages (from requests>=2.9.1->icrawler) (2022.12.7)\n",
            "Requirement already satisfied: idna<4,>=2.5 in /usr/local/lib/python3.9/dist-packages (from requests>=2.9.1->icrawler) (3.4)\n",
            "Requirement already satisfied: charset-normalizer~=2.0.0 in /usr/local/lib/python3.9/dist-packages (from requests>=2.9.1->icrawler) (2.0.12)\n",
            "Installing collected packages: icrawler\n",
            "Successfully installed icrawler-0.6.6\n",
            "Looking in indexes: https://pypi.org/simple, https://us-python.pkg.dev/colab-wheels/public/simple/\n",
            "Collecting easyocr\n",
            "  Downloading easyocr-1.6.2-py3-none-any.whl (2.9 MB)\n",
            "\u001b[2K     \u001b[90m━━━━━━━━━━━━━━━━━━━━━━━━━━━━━━━━━━━━━━━━\u001b[0m \u001b[32m2.9/2.9 MB\u001b[0m \u001b[31m21.1 MB/s\u001b[0m eta \u001b[36m0:00:00\u001b[0m\n",
            "\u001b[?25hCollecting python-bidi\n",
            "  Downloading python_bidi-0.4.2-py2.py3-none-any.whl (30 kB)\n",
            "Requirement already satisfied: Pillow in /usr/local/lib/python3.9/dist-packages (from easyocr) (8.4.0)\n",
            "Requirement already satisfied: torch in /usr/local/lib/python3.9/dist-packages (from easyocr) (2.0.0+cu118)\n",
            "Requirement already satisfied: scikit-image in /usr/local/lib/python3.9/dist-packages (from easyocr) (0.19.3)\n",
            "Collecting pyclipper\n",
            "  Downloading pyclipper-1.3.0.post4-cp39-cp39-manylinux_2_5_x86_64.manylinux1_x86_64.whl (608 kB)\n",
            "\u001b[2K     \u001b[90m━━━━━━━━━━━━━━━━━━━━━━━━━━━━━━━━━━━━━━\u001b[0m \u001b[32m608.2/608.2 kB\u001b[0m \u001b[31m38.5 MB/s\u001b[0m eta \u001b[36m0:00:00\u001b[0m\n",
            "\u001b[?25hCollecting ninja\n",
            "  Downloading ninja-1.11.1-py2.py3-none-manylinux_2_12_x86_64.manylinux2010_x86_64.whl (145 kB)\n",
            "\u001b[2K     \u001b[90m━━━━━━━━━━━━━━━━━━━━━━━━━━━━━━━━━━━━━━\u001b[0m \u001b[32m146.0/146.0 kB\u001b[0m \u001b[31m11.8 MB/s\u001b[0m eta \u001b[36m0:00:00\u001b[0m\n",
            "\u001b[?25hRequirement already satisfied: torchvision>=0.5 in /usr/local/lib/python3.9/dist-packages (from easyocr) (0.15.1+cu118)\n",
            "Requirement already satisfied: PyYAML in /usr/local/lib/python3.9/dist-packages (from easyocr) (6.0)\n",
            "Requirement already satisfied: Shapely in /usr/local/lib/python3.9/dist-packages (from easyocr) (2.0.1)\n",
            "Collecting opencv-python-headless<=4.5.4.60\n",
            "  Downloading opencv_python_headless-4.5.4.60-cp39-cp39-manylinux_2_17_x86_64.manylinux2014_x86_64.whl (47.6 MB)\n",
            "\u001b[2K     \u001b[90m━━━━━━━━━━━━━━━━━━━━━━━━━━━━━━━━━━━━━━━━\u001b[0m \u001b[32m47.6/47.6 MB\u001b[0m \u001b[31m18.2 MB/s\u001b[0m eta \u001b[36m0:00:00\u001b[0m\n",
            "\u001b[?25hRequirement already satisfied: numpy in /usr/local/lib/python3.9/dist-packages (from easyocr) (1.22.4)\n",
            "Requirement already satisfied: scipy in /usr/local/lib/python3.9/dist-packages (from easyocr) (1.10.1)\n",
            "Requirement already satisfied: requests in /usr/local/lib/python3.9/dist-packages (from torchvision>=0.5->easyocr) (2.27.1)\n",
            "Requirement already satisfied: triton==2.0.0 in /usr/local/lib/python3.9/dist-packages (from torch->easyocr) (2.0.0)\n",
            "Requirement already satisfied: filelock in /usr/local/lib/python3.9/dist-packages (from torch->easyocr) (3.11.0)\n",
            "Requirement already satisfied: jinja2 in /usr/local/lib/python3.9/dist-packages (from torch->easyocr) (3.1.2)\n",
            "Requirement already satisfied: typing-extensions in /usr/local/lib/python3.9/dist-packages (from torch->easyocr) (4.5.0)\n",
            "Requirement already satisfied: networkx in /usr/local/lib/python3.9/dist-packages (from torch->easyocr) (3.1)\n",
            "Requirement already satisfied: sympy in /usr/local/lib/python3.9/dist-packages (from torch->easyocr) (1.11.1)\n",
            "Requirement already satisfied: cmake in /usr/local/lib/python3.9/dist-packages (from triton==2.0.0->torch->easyocr) (3.25.2)\n",
            "Requirement already satisfied: lit in /usr/local/lib/python3.9/dist-packages (from triton==2.0.0->torch->easyocr) (16.0.1)\n",
            "Requirement already satisfied: six in /usr/local/lib/python3.9/dist-packages (from python-bidi->easyocr) (1.16.0)\n",
            "Requirement already satisfied: imageio>=2.4.1 in /usr/local/lib/python3.9/dist-packages (from scikit-image->easyocr) (2.25.1)\n",
            "Requirement already satisfied: tifffile>=2019.7.26 in /usr/local/lib/python3.9/dist-packages (from scikit-image->easyocr) (2023.3.21)\n",
            "Requirement already satisfied: packaging>=20.0 in /usr/local/lib/python3.9/dist-packages (from scikit-image->easyocr) (23.0)\n",
            "Requirement already satisfied: PyWavelets>=1.1.1 in /usr/local/lib/python3.9/dist-packages (from scikit-image->easyocr) (1.4.1)\n",
            "Requirement already satisfied: MarkupSafe>=2.0 in /usr/local/lib/python3.9/dist-packages (from jinja2->torch->easyocr) (2.1.2)\n",
            "Requirement already satisfied: urllib3<1.27,>=1.21.1 in /usr/local/lib/python3.9/dist-packages (from requests->torchvision>=0.5->easyocr) (1.26.15)\n",
            "Requirement already satisfied: certifi>=2017.4.17 in /usr/local/lib/python3.9/dist-packages (from requests->torchvision>=0.5->easyocr) (2022.12.7)\n",
            "Requirement already satisfied: charset-normalizer~=2.0.0 in /usr/local/lib/python3.9/dist-packages (from requests->torchvision>=0.5->easyocr) (2.0.12)\n",
            "Requirement already satisfied: idna<4,>=2.5 in /usr/local/lib/python3.9/dist-packages (from requests->torchvision>=0.5->easyocr) (3.4)\n",
            "Requirement already satisfied: mpmath>=0.19 in /usr/local/lib/python3.9/dist-packages (from sympy->torch->easyocr) (1.3.0)\n",
            "Installing collected packages: pyclipper, ninja, python-bidi, opencv-python-headless, easyocr\n",
            "  Attempting uninstall: opencv-python-headless\n",
            "    Found existing installation: opencv-python-headless 4.7.0.72\n",
            "    Uninstalling opencv-python-headless-4.7.0.72:\n",
            "      Successfully uninstalled opencv-python-headless-4.7.0.72\n",
            "Successfully installed easyocr-1.6.2 ninja-1.11.1 opencv-python-headless-4.5.4.60 pyclipper-1.3.0.post4 python-bidi-0.4.2\n",
            "Looking in indexes: https://pypi.org/simple, https://us-python.pkg.dev/colab-wheels/public/simple/\n",
            "Collecting pyspellchecker\n",
            "  Downloading pyspellchecker-0.7.1-py3-none-any.whl (2.5 MB)\n",
            "\u001b[2K     \u001b[90m━━━━━━━━━━━━━━━━━━━━━━━━━━━━━━━━━━━━━━━━\u001b[0m \u001b[32m2.5/2.5 MB\u001b[0m \u001b[31m28.5 MB/s\u001b[0m eta \u001b[36m0:00:00\u001b[0m\n",
            "\u001b[?25hInstalling collected packages: pyspellchecker\n",
            "Successfully installed pyspellchecker-0.7.1\n",
            "Looking in indexes: https://pypi.org/simple, https://us-python.pkg.dev/colab-wheels/public/simple/\n",
            "Collecting fuzzywuzzy\n",
            "  Downloading fuzzywuzzy-0.18.0-py2.py3-none-any.whl (18 kB)\n",
            "Installing collected packages: fuzzywuzzy\n",
            "Successfully installed fuzzywuzzy-0.18.0\n",
            "Looking in indexes: https://pypi.org/simple, https://us-python.pkg.dev/colab-wheels/public/simple/\n",
            "Collecting python-Levenshtein\n",
            "  Downloading python_Levenshtein-0.20.9-py3-none-any.whl (9.4 kB)\n",
            "Collecting Levenshtein==0.20.9\n",
            "  Downloading Levenshtein-0.20.9-cp39-cp39-manylinux_2_17_x86_64.manylinux2014_x86_64.whl (175 kB)\n",
            "\u001b[2K     \u001b[90m━━━━━━━━━━━━━━━━━━━━━━━━━━━━━━━━━━━━━━━\u001b[0m \u001b[32m175.5/175.5 kB\u001b[0m \u001b[31m5.2 MB/s\u001b[0m eta \u001b[36m0:00:00\u001b[0m\n",
            "\u001b[?25hCollecting rapidfuzz<3.0.0,>=2.3.0\n",
            "  Downloading rapidfuzz-2.15.1-cp39-cp39-manylinux_2_17_x86_64.manylinux2014_x86_64.whl (3.0 MB)\n",
            "\u001b[2K     \u001b[90m━━━━━━━━━━━━━━━━━━━━━━━━━━━━━━━━━━━━━━━━\u001b[0m \u001b[32m3.0/3.0 MB\u001b[0m \u001b[31m50.9 MB/s\u001b[0m eta \u001b[36m0:00:00\u001b[0m\n",
            "\u001b[?25hInstalling collected packages: rapidfuzz, Levenshtein, python-Levenshtein\n",
            "Successfully installed Levenshtein-0.20.9 python-Levenshtein-0.20.9 rapidfuzz-2.15.1\n",
            "Looking in indexes: https://pypi.org/simple, https://us-python.pkg.dev/colab-wheels/public/simple/\n",
            "Collecting deep-translator\n",
            "  Downloading deep_translator-1.10.1-py3-none-any.whl (35 kB)\n",
            "Requirement already satisfied: requests<3.0.0,>=2.23.0 in /usr/local/lib/python3.9/dist-packages (from deep-translator) (2.27.1)\n",
            "Requirement already satisfied: beautifulsoup4<5.0.0,>=4.9.1 in /usr/local/lib/python3.9/dist-packages (from deep-translator) (4.11.2)\n",
            "Requirement already satisfied: soupsieve>1.2 in /usr/local/lib/python3.9/dist-packages (from beautifulsoup4<5.0.0,>=4.9.1->deep-translator) (2.4)\n",
            "Requirement already satisfied: urllib3<1.27,>=1.21.1 in /usr/local/lib/python3.9/dist-packages (from requests<3.0.0,>=2.23.0->deep-translator) (1.26.15)\n",
            "Requirement already satisfied: charset-normalizer~=2.0.0 in /usr/local/lib/python3.9/dist-packages (from requests<3.0.0,>=2.23.0->deep-translator) (2.0.12)\n",
            "Requirement already satisfied: certifi>=2017.4.17 in /usr/local/lib/python3.9/dist-packages (from requests<3.0.0,>=2.23.0->deep-translator) (2022.12.7)\n",
            "Requirement already satisfied: idna<4,>=2.5 in /usr/local/lib/python3.9/dist-packages (from requests<3.0.0,>=2.23.0->deep-translator) (3.4)\n",
            "Installing collected packages: deep-translator\n",
            "Successfully installed deep-translator-1.10.1\n"
          ]
        }
      ]
    },
    {
      "cell_type": "code",
      "source": [
        "#import the libraries\n",
        "import datetime\n",
        "import sys\n",
        "import os,shutil\n",
        "import re\n",
        "from icrawler.builtin import google, GoogleImageCrawler\n",
        "from spellchecker import SpellChecker\n",
        "from fuzzywuzzy import fuzz\n",
        "from typing import Literal\n",
        "from string import ascii_letters\n",
        "import textwrap\n",
        "from PIL import ImageFont\n",
        "from PIL import Image\n",
        "from PIL import ImageDraw\n",
        "from deep_translator import GoogleTranslator\n",
        "import easyocr"
      ],
      "metadata": {
        "id": "sPmTovbQgjRW"
      },
      "execution_count": 2,
      "outputs": []
    },
    {
      "cell_type": "code",
      "source": [
        "def get_crawled_image_names(parent_path=None):\n",
        "  list_ = os.listdir(parent_path)\n",
        "  ext = ['jpg','bmp','jpeg']\n",
        "\n",
        "  filtered = [x for x in list_ if any(y in x for y in ext)]\n",
        "  \n",
        "  return filtered"
      ],
      "metadata": {
        "id": "wVNRck-Ygjky"
      },
      "execution_count": 3,
      "outputs": []
    },
    {
      "cell_type": "code",
      "source": [
        "def generate_html_table(processed_data=None,directory_name=None):\n",
        "\n",
        "    print(\"\\nGenerateing HTML table started ...\")\n",
        "\n",
        "    if processed_data == None:\n",
        "         print(\"Stoped: No processed data found!\")\n",
        "         return\n",
        "    \n",
        "    count = len(processed_data)\n",
        "    str_rows=\"\"\n",
        "    row_header = \"<tr>\\n\"\\\n",
        "                 \"\\t<td align='center'><h1>Quote</h1></td>\\n\"\\\n",
        "                 \"\\t<td align='center'><h1>Background</h1></td>\\n\"\\\n",
        "                 \"\\t<td align='center'><h1>Last File</h1></td>\\n\"\\\n",
        "                 \"</tr>\"\n",
        "\n",
        "    for i in range(count):\n",
        "\n",
        "          source = processed_data[i][\"source_file\"]\n",
        "\n",
        "          wallpaper=processed_data[i][\"background\"]\n",
        "\n",
        "          generated=processed_data[i][\"generated\"]\n",
        "          row_str =\"<tr>\\n\"\\\n",
        "                   \"\\t<td><img src='.\"+source+\"' width='300' height='200'/></td>\\n\"\\\n",
        "                   \"\\t<td><img src='.\"+wallpaper+\"' width='300' height='200'/></td>\\n\"\\\n",
        "                   \"\\t<td><img src='.\"+generated+\"' width='300' height='200'/></td>\\n\"\\\n",
        "                   \"</tr>\"\n",
        "          \n",
        "          str_rows = str_rows + row_str\n",
        "    \n",
        "    print(\"Collected \" +str(count)+\" images ...\")\n",
        "\n",
        "    table_str = \"<table align='center' border='1'>\\n\" + row_header + str_rows + \"\\n</table>\"\n",
        "    \n",
        "    html_text = table_str\n",
        "    try:\n",
        "      readme = open(directory_name+\"/README.MD\", 'w')\n",
        "      readme.write(html_text)\n",
        "      readme.close() \n",
        "\n",
        "      print(\"HTML table saved in:\", \"/README.MD\")\n",
        "    except Exception as err:\n",
        "      print(f\"Unexpected {err=}, {type(err)=}\")\n",
        "\n",
        "    \n",
        "\n",
        "    print()"
      ],
      "metadata": {
        "id": "nHiKbW0Zgjnt"
      },
      "execution_count": 39,
      "outputs": []
    },
    {
      "cell_type": "code",
      "source": [
        "google_crawler = GoogleImageCrawler()\n",
        "google_crawler.crawl(keyword = \"Anne shirley quote\", offset = 0, max_num = 20, min_size = None, max_size = None)"
      ],
      "metadata": {
        "colab": {
          "base_uri": "https://localhost:8080/"
        },
        "id": "ZLdudeOUgjsV",
        "outputId": "6ce2953a-fd4c-438a-e9fe-e449a9a3f1fe"
      },
      "execution_count": 5,
      "outputs": [
        {
          "output_type": "stream",
          "name": "stderr",
          "text": [
            "ERROR:downloader:Response status code 429, file https://ciarraistudios.files.wordpress.com/2014/02/white-way-of-delight.jpg\n"
          ]
        }
      ]
    },
    {
      "cell_type": "code",
      "source": [
        "if os.path.exists(\"/content/quotes\"):\n",
        "  shutil.rmtree(\"/content/quotes\")\n",
        "os.rename(\"/content/images\", \"/content/quotes\")"
      ],
      "metadata": {
        "id": "qoPL1fx3gjuM"
      },
      "execution_count": 6,
      "outputs": []
    },
    {
      "cell_type": "code",
      "source": [
        "google_crawler = GoogleImageCrawler()\n",
        "google_crawler.crawl(keyword = \"flower Background\", offset = 0, max_num = 25, min_size = None, max_size = None)"
      ],
      "metadata": {
        "colab": {
          "base_uri": "https://localhost:8080/"
        },
        "id": "prOZSVQOgjwJ",
        "outputId": "85e9ddf6-9a33-4bb6-9cdf-4648739da9ce"
      },
      "execution_count": 26,
      "outputs": [
        {
          "output_type": "stream",
          "name": "stderr",
          "text": [
            "ERROR:downloader:Response status code 400, file https://media.istockphoto.com/id/1294181713/vector/retro-delicate-wedding-card-with-pink-watercolor-texture-and-flowers.jpg\n",
            "ERROR:downloader:Response status code 403, file https://img.rawpixel.com/private/static/images/website/2022-05/px1605560-image-kwvxq3bb.jpg\n",
            "ERROR:downloader:Exception caught when downloading file https://png.png, error: HTTPSConnectionPool(host='png.png', port=443): Max retries exceeded with url: / (Caused by NewConnectionError('<urllib3.connection.HTTPSConnection object at 0x7f16bb076190>: Failed to establish a new connection: [Errno -2] Name or service not known')), remaining retry times: 2\n",
            "ERROR:downloader:Exception caught when downloading file https://png.png, error: HTTPSConnectionPool(host='png.png', port=443): Max retries exceeded with url: / (Caused by NewConnectionError('<urllib3.connection.HTTPSConnection object at 0x7f16bb06ec40>: Failed to establish a new connection: [Errno -2] Name or service not known')), remaining retry times: 1\n",
            "ERROR:downloader:Exception caught when downloading file https://png.png, error: HTTPSConnectionPool(host='png.png', port=443): Max retries exceeded with url: / (Caused by NewConnectionError('<urllib3.connection.HTTPSConnection object at 0x7f16bb07a580>: Failed to establish a new connection: [Errno -2] Name or service not known')), remaining retry times: 0\n",
            "ERROR:downloader:Response status code 403, file https://img.rawpixel.com/private/static/images/website/2022-05/rm428-0017.jpg\n"
          ]
        }
      ]
    },
    {
      "cell_type": "code",
      "source": [
        "if os.path.exists(\"/content/images\"):\n",
        "  os.rename(\"/content/images\",\"/content/backgrounds\")"
      ],
      "metadata": {
        "id": "mRqIKnfpgj0_"
      },
      "execution_count": 27,
      "outputs": []
    },
    {
      "cell_type": "code",
      "source": [
        "translator = GoogleTranslator(source='auto', target='fa')\n",
        "font = ImageFont.truetype(font = '/content/Lalezar-Regular.ttf',size= 50)\n",
        "processed_images = []"
      ],
      "metadata": {
        "id": "wzmjFFbSgj2e"
      },
      "execution_count": 28,
      "outputs": []
    },
    {
      "cell_type": "code",
      "source": [
        "anne_img_names = get_crawled_image_names(\"/content/quotes\")\n",
        "background_img_names = get_crawled_image_names(\"/content/backgrounds\")"
      ],
      "metadata": {
        "id": "ddcdHcPzgj4I"
      },
      "execution_count": 29,
      "outputs": []
    },
    {
      "cell_type": "code",
      "source": [
        "len(background_img_names)"
      ],
      "metadata": {
        "colab": {
          "base_uri": "https://localhost:8080/"
        },
        "id": "idI2g-_Ci7-G",
        "outputId": "8955ab2c-6cb6-40c2-ed77-8856ea219637"
      },
      "execution_count": 30,
      "outputs": [
        {
          "output_type": "execute_result",
          "data": {
            "text/plain": [
              "23"
            ]
          },
          "metadata": {},
          "execution_count": 30
        }
      ]
    },
    {
      "cell_type": "code",
      "source": [
        "for i in range(20):\n",
        "  anne_img_name = \"/content/quotes/\" + anne_img_names[i]\n",
        "  background_img_name = \"/content/backgrounds/\" + background_img_names[i]\n",
        "  generated_img_name = \"/content/final/\"+ str(i + 1)+\".jpg\"\n",
        "\n",
        "  easyocr_reader = easyocr.Reader([\"en\"], gpu=False)\n",
        "  list_of_text = easyocr_reader.readtext(anne_img_name, detail = 0)\n",
        "\n",
        "  text = str('')\n",
        "  for item in list_of_text:\n",
        "    text = text + ' '+ item\n",
        "\n",
        "  compiled = re.compile(re.escape('anne'), re.IGNORECASE)\n",
        "  text = compiled.sub('', text)\n",
        "  compiled = re.compile(re.escape('shirley'), re.IGNORECASE)\n",
        "  text = compiled.sub('', text)\n",
        "  text = text.replace('\\n',' ')\n",
        "  text = re.sub('\\s+', ' ', text)\n",
        "\n",
        "  words = text.split()\n",
        "  final_text=\"\"\n",
        "  spell = SpellChecker()\n",
        "  for word in words:\n",
        "    misspelled = spell.unknown([word])\n",
        "    if len(misspelled)==1:\n",
        "      correct = spell.correction(word)\n",
        "      if correct == None:\n",
        "        final_text = final_text+ \" \"+ word\n",
        "      else:\n",
        "        final_text = final_text+\" \"+ spell.correction(word)\n",
        "    else:\n",
        "      if final_text ==\"\":\n",
        "        final_text = word\n",
        "      else:\n",
        "        final_text = final_text+ \" \"+ word\n",
        "\n",
        "  best_file=\"\"\n",
        "  best_match = 0\n",
        "  list_ = os.listdir(\"/content/anne_books\")\n",
        "  for f in list_:\n",
        "    path_ = \"/content/anne_books\" +\"/\"+ str(f) \n",
        "    file = open(path_,\"r\")\n",
        "    content = file.read()\n",
        "    ratio = fuzz.token_set_ratio(final_text, content)\n",
        "    if best_match < ratio:\n",
        "      best_match = ratio\n",
        "      best_file = f\n",
        "\n",
        "  if best_match < 0.85 :\n",
        "    continue\n",
        "\n",
        "  translated = translator.translate(text=final_text)\n",
        "\n",
        "  final_img = Image.open(background_img_name)\n",
        "  draw = ImageDraw.Draw(final_img)\n",
        "  width  = final_img.width\n",
        "  height = final_img.height\n",
        "  img_center = (width/2,height/2)\n",
        "      \n",
        "  # translated is the text you want to add to the image\n",
        "  translated = translator.translate(text=final_text)\n",
        "\n",
        "  # Open the image file\n",
        "  final_img = Image.open(background_img_name)\n",
        "\n",
        "  # Get a drawing context\n",
        "  draw = ImageDraw.Draw(final_img)\n",
        "\n",
        "  # Load the font\n",
        "  font = ImageFont.truetype(font = '/content/Lalezar-Regular.ttf',size= 50)\n",
        "\n",
        "  # Split the text into words\n",
        "  words = translated.split()\n",
        "\n",
        "  # Initialize variables\n",
        "  x = 50\n",
        "  y = 50\n",
        "  line_width = 0\n",
        "  line_text = \"\"\n",
        "\n",
        "  # Loop through all the words\n",
        "  for word in words:\n",
        "\n",
        "     # Add the word to the line_text\n",
        "     line_text += word + \" \"\n",
        "    \n",
        "     # Get the size of the line_text\n",
        "     w, h = draw.textsize(line_text, font=font)\n",
        "    \n",
        "     # If the line width exceeds the image width or we have reached 6 words\n",
        "     if w > final_img.width - 100 or len(line_text.split()) == 6:\n",
        "        \n",
        "        # Draw the line_text on the image\n",
        "        draw.text((x, y), line_text, font=font, fill=(255, 255, 255))\n",
        "        \n",
        "        # Reset line_text and update the y coordinate\n",
        "        line_text = \"\"\n",
        "        y += h + 10\n",
        "        \n",
        "     # Update the line_width with the current word's width\n",
        "     line_width += w\n",
        "\n",
        "  # Save the modified image\n",
        "  final_img.save(generated_img_name)\n",
        "\n",
        "  anne_img_name = anne_img_name.replace(\"/content/drive/MyDrive/Colab Notebooks/Image_Crawling.ipynb\",\"\")\n",
        "  background_img_name = background_img_name.replace(\"/content/drive/MyDrive/Colab Notebooks/Image_Crawling.ipynb\",\"\")\n",
        "  generated_img_name = generated_img_name.replace(\"/content/drive/MyDrive/Colab Notebooks/Image_Crawling.ipynb\",\"\")\n",
        "\n",
        "  processed_images.append({\"source_file\":anne_img_name, \"background\":background_img_name ,\"generated\":generated_img_name})\n",
        "\n",
        "  print(\"Generated image(text match:\"+str(best_match)+\"%) #\",generated_img_name)\n",
        "  "
      ],
      "metadata": {
        "colab": {
          "base_uri": "https://localhost:8080/"
        },
        "id": "UbiSK5Qugj_v",
        "outputId": "05466a18-ab5a-4cf3-eb8e-9dc1e4cbb8c6"
      },
      "execution_count": 35,
      "outputs": [
        {
          "output_type": "stream",
          "name": "stderr",
          "text": [
            "WARNING:easyocr.easyocr:Using CPU. Note: This module is much faster with a GPU.\n",
            "WARNING:easyocr.easyocr:Using CPU. Note: This module is much faster with a GPU.\n"
          ]
        },
        {
          "output_type": "stream",
          "name": "stdout",
          "text": [
            "Generated image(text match:100%) # /content/final/1.jpg\n"
          ]
        },
        {
          "output_type": "stream",
          "name": "stderr",
          "text": [
            "WARNING:easyocr.easyocr:Using CPU. Note: This module is much faster with a GPU.\n"
          ]
        },
        {
          "output_type": "stream",
          "name": "stdout",
          "text": [
            "Generated image(text match:97%) # /content/final/2.jpg\n"
          ]
        },
        {
          "output_type": "stream",
          "name": "stderr",
          "text": [
            "WARNING:easyocr.easyocr:Using CPU. Note: This module is much faster with a GPU.\n"
          ]
        },
        {
          "output_type": "stream",
          "name": "stdout",
          "text": [
            "Generated image(text match:77%) # /content/final/3.jpg\n"
          ]
        },
        {
          "output_type": "stream",
          "name": "stderr",
          "text": [
            "WARNING:easyocr.easyocr:Using CPU. Note: This module is much faster with a GPU.\n"
          ]
        },
        {
          "output_type": "stream",
          "name": "stdout",
          "text": [
            "Generated image(text match:98%) # /content/final/4.jpg\n"
          ]
        },
        {
          "output_type": "stream",
          "name": "stderr",
          "text": [
            "WARNING:easyocr.easyocr:Using CPU. Note: This module is much faster with a GPU.\n"
          ]
        },
        {
          "output_type": "stream",
          "name": "stdout",
          "text": [
            "Generated image(text match:82%) # /content/final/5.jpg\n"
          ]
        },
        {
          "output_type": "stream",
          "name": "stderr",
          "text": [
            "WARNING:easyocr.easyocr:Using CPU. Note: This module is much faster with a GPU.\n"
          ]
        },
        {
          "output_type": "stream",
          "name": "stdout",
          "text": [
            "Generated image(text match:80%) # /content/final/6.jpg\n"
          ]
        },
        {
          "output_type": "stream",
          "name": "stderr",
          "text": [
            "WARNING:easyocr.easyocr:Using CPU. Note: This module is much faster with a GPU.\n"
          ]
        },
        {
          "output_type": "stream",
          "name": "stdout",
          "text": [
            "Generated image(text match:81%) # /content/final/7.jpg\n"
          ]
        },
        {
          "output_type": "stream",
          "name": "stderr",
          "text": [
            "WARNING:easyocr.easyocr:Using CPU. Note: This module is much faster with a GPU.\n"
          ]
        },
        {
          "output_type": "stream",
          "name": "stdout",
          "text": [
            "Generated image(text match:58%) # /content/final/8.jpg\n"
          ]
        },
        {
          "output_type": "stream",
          "name": "stderr",
          "text": [
            "WARNING:easyocr.easyocr:Using CPU. Note: This module is much faster with a GPU.\n"
          ]
        },
        {
          "output_type": "stream",
          "name": "stdout",
          "text": [
            "Generated image(text match:95%) # /content/final/9.jpg\n"
          ]
        },
        {
          "output_type": "stream",
          "name": "stderr",
          "text": [
            "WARNING:easyocr.easyocr:Using CPU. Note: This module is much faster with a GPU.\n"
          ]
        },
        {
          "output_type": "stream",
          "name": "stdout",
          "text": [
            "Generated image(text match:83%) # /content/final/10.jpg\n"
          ]
        },
        {
          "output_type": "stream",
          "name": "stderr",
          "text": [
            "WARNING:easyocr.easyocr:Using CPU. Note: This module is much faster with a GPU.\n"
          ]
        },
        {
          "output_type": "stream",
          "name": "stdout",
          "text": [
            "Generated image(text match:49%) # /content/final/11.jpg\n"
          ]
        },
        {
          "output_type": "stream",
          "name": "stderr",
          "text": [
            "WARNING:easyocr.easyocr:Using CPU. Note: This module is much faster with a GPU.\n"
          ]
        },
        {
          "output_type": "stream",
          "name": "stdout",
          "text": [
            "Generated image(text match:90%) # /content/final/12.jpg\n"
          ]
        },
        {
          "output_type": "stream",
          "name": "stderr",
          "text": [
            "WARNING:easyocr.easyocr:Using CPU. Note: This module is much faster with a GPU.\n"
          ]
        },
        {
          "output_type": "stream",
          "name": "stdout",
          "text": [
            "Generated image(text match:98%) # /content/final/13.jpg\n"
          ]
        },
        {
          "output_type": "stream",
          "name": "stderr",
          "text": [
            "WARNING:easyocr.easyocr:Using CPU. Note: This module is much faster with a GPU.\n"
          ]
        },
        {
          "output_type": "stream",
          "name": "stdout",
          "text": [
            "Generated image(text match:100%) # /content/final/14.jpg\n"
          ]
        },
        {
          "output_type": "stream",
          "name": "stderr",
          "text": [
            "WARNING:easyocr.easyocr:Using CPU. Note: This module is much faster with a GPU.\n"
          ]
        },
        {
          "output_type": "stream",
          "name": "stdout",
          "text": [
            "Generated image(text match:82%) # /content/final/15.jpg\n"
          ]
        },
        {
          "output_type": "stream",
          "name": "stderr",
          "text": [
            "WARNING:easyocr.easyocr:Using CPU. Note: This module is much faster with a GPU.\n"
          ]
        },
        {
          "output_type": "stream",
          "name": "stdout",
          "text": [
            "Generated image(text match:73%) # /content/final/16.jpg\n"
          ]
        },
        {
          "output_type": "stream",
          "name": "stderr",
          "text": [
            "WARNING:easyocr.easyocr:Using CPU. Note: This module is much faster with a GPU.\n"
          ]
        },
        {
          "output_type": "stream",
          "name": "stdout",
          "text": [
            "Generated image(text match:89%) # /content/final/17.jpg\n"
          ]
        },
        {
          "output_type": "stream",
          "name": "stderr",
          "text": [
            "WARNING:easyocr.easyocr:Using CPU. Note: This module is much faster with a GPU.\n"
          ]
        },
        {
          "output_type": "stream",
          "name": "stdout",
          "text": [
            "Generated image(text match:65%) # /content/final/18.jpg\n"
          ]
        },
        {
          "output_type": "stream",
          "name": "stderr",
          "text": [
            "WARNING:easyocr.easyocr:Using CPU. Note: This module is much faster with a GPU.\n"
          ]
        },
        {
          "output_type": "stream",
          "name": "stdout",
          "text": [
            "Generated image(text match:79%) # /content/final/19.jpg\n",
            "Generated image(text match:95%) # /content/final/20.jpg\n"
          ]
        }
      ]
    },
    {
      "cell_type": "code",
      "source": [
        "generate_html_table(processed_data = processed_images, directory_name = \"/content/drive/MyDrive/Colab Notebooks/Image_Crawling.ipynb\")"
      ],
      "metadata": {
        "colab": {
          "base_uri": "https://localhost:8080/"
        },
        "id": "KkwmnhlWppI7",
        "outputId": "9a07fa97-ff21-4167-c592-01dd4f998c60"
      },
      "execution_count": 40,
      "outputs": [
        {
          "output_type": "stream",
          "name": "stdout",
          "text": [
            "\n",
            "Generateing HTML table started ...\n",
            "Collected 60 images ...\n",
            "Unexpected err=FileNotFoundError(2, 'No such file or directory'), type(err)=<class 'FileNotFoundError'>\n",
            "\n"
          ]
        }
      ]
    },
    {
      "cell_type": "code",
      "source": [
        "from google.colab import drive\n",
        "drive.mount('/content/drive')"
      ],
      "metadata": {
        "colab": {
          "base_uri": "https://localhost:8080/"
        },
        "id": "y4mgTRl7tXC9",
        "outputId": "17b40028-12d5-4597-e1ec-4e279bd475a5"
      },
      "execution_count": 41,
      "outputs": [
        {
          "output_type": "stream",
          "name": "stdout",
          "text": [
            "Mounted at /content/drive\n"
          ]
        }
      ]
    },
    {
      "cell_type": "code",
      "source": [],
      "metadata": {
        "id": "hJogDY9Hkpvt"
      },
      "execution_count": 36,
      "outputs": []
    }
  ],
  "metadata": {
    "colab": {
      "name": "Welcome To Colaboratory",
      "provenance": [],
      "include_colab_link": true
    },
    "kernelspec": {
      "display_name": "Python 3",
      "name": "python3"
    }
  },
  "nbformat": 4,
  "nbformat_minor": 0
}